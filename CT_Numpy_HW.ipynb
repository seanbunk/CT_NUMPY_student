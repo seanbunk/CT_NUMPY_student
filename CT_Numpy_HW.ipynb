{
 "cells": [
  {
   "cell_type": "markdown",
   "metadata": {
    "id": "KdERlTpFuL5V"
   },
   "source": [
    "# Exercises"
   ]
  },
  {
   "cell_type": "markdown",
   "metadata": {
    "id": "to-gsrQyuL5Z"
   },
   "source": [
    "### #1 - Calculate the BMI (body mass index) on the two lists below using NDArrays..."
   ]
  },
  {
   "cell_type": "code",
   "execution_count": 4,
   "metadata": {
    "id": "iZlf9DzeuL5a"
   },
   "outputs": [
    {
     "data": {
      "text/plain": [
       "array([16.86620458, 17.87755102, 18.82562984, 19.71450617, 20.54794521,\n",
       "       21.32943755, 22.06222222])"
      ]
     },
     "execution_count": 4,
     "metadata": {},
     "output_type": "execute_result"
    }
   ],
   "source": [
    "import numpy as np\n",
    "# formula = weight / (height**2) * 730\n",
    "height = [69, 70, 71, 72, 73, 74, 75]\n",
    "weight = [110, 120, 130, 140, 150, 160, 170]\n",
    "\n",
    "np_height = np.array(height)\n",
    "np_weight = np.array(weight)\n",
    "\n",
    "bmi= (np_weight / np_height **2) * 730\n",
    "bmi"
   ]
  },
  {
   "cell_type": "markdown",
   "metadata": {
    "id": "RSsT8w8ouL5b"
   },
   "source": [
    "### #2 - Create a function that will take in two parameters and will create a random matrix based off of those parameters. Extra: Have additional parameters taken in that allow the user to choose the shape and data type of the matrix."
   ]
  },
  {
   "cell_type": "code",
   "execution_count": 23,
   "metadata": {
    "id": "ygFvj0aeuL5b"
   },
   "outputs": [
    {
     "data": {
      "text/plain": [
       "array([[32., 76., 61., 61., 89., 53., 28., 29., 74., 16.],\n",
       "       [ 2., 34., 13., 66., 98., 39., 73., 37.,  2., 99.],\n",
       "       [85., 98., 64., 81.,  8.,  2., 22., 43., 18., 22.],\n",
       "       [ 5., 25., 35.,  8., 49., 12., 24., 28., 40., 22.],\n",
       "       [35., 47., 70., 96., 19., 42.,  3., 72.,  5., 54.],\n",
       "       [ 3., 66., 35., 45., 69.,  7., 97., 12., 89., 62.],\n",
       "       [89.,  2., 61., 33., 76., 28., 72., 95., 81., 35.],\n",
       "       [62., 40., 16., 54., 87.,  8., 60., 99., 26., 81.],\n",
       "       [85., 22., 35., 94., 28., 26., 77., 43., 67., 78.],\n",
       "       [25., 66., 81., 81., 42., 27., 18., 81., 13., 52.]])"
      ]
     },
     "execution_count": 23,
     "metadata": {},
     "output_type": "execute_result"
    }
   ],
   "source": [
    "import numpy as np\n",
    "\n",
    "def seans_matrix(rows, columns, shape=None, dtype=float):\n",
    "    if shape == \"square\":\n",
    "        rows = columns\n",
    "    return np.random.randint(0, 100, size=(rows, columns)).astype(dtype)\n",
    "\n",
    "seans_matrix(10,10)\n",
    "\n"
   ]
  },
  {
   "cell_type": "markdown",
   "metadata": {
    "id": "e5mP1UX9uL5c"
   },
   "source": [
    "### #3 - Extra: Open and load the data in the two text files that have the Boston Red Sox hitting data for the past seasons. Compare the difference in the two years by putting the data into an NDArray and running a differencial operation on it. The column to look for will be SLG.\n",
    "\n",
    "Your output should display which year (either 2017 or 2018) was a better year based on SLG"
   ]
  },
  {
   "cell_type": "code",
   "execution_count": 5,
   "metadata": {
    "id": "iAExC-SjuL5c"
   },
   "outputs": [],
   "source": [
    "import numpy as np\n"
   ]
  },
  {
   "cell_type": "code",
   "execution_count": 24,
   "metadata": {
    "id": "P8Rwr8lmuL5e"
   },
   "outputs": [
    {
     "name": "stdout",
     "output_type": "stream",
     "text": [
      "\n",
      "Total Hits 2017:  1459\n",
      "Total Hits2018: 1505\n",
      "\n",
      "Total HomeRuns 2017: 168\n",
      "Total Home Runs 2018: 208\n",
      "\n",
      "Total SLG 2017 9.04699994623661\n",
      "Total SLG 2018 7.750000067055225\n",
      "\n",
      "Top 5 of 2017: [0.443, 0.459, 0.482, 0.539, 1.0]\n",
      "Top 5 of 2018: [0.465, 0.507, 0.522, 0.629, 0.64]\n"
     ]
    }
   ],
   "source": [
    "FIELDS = ['Rk', 'Pos', 'Name', 'Age', 'G', 'PA', 'AB', 'R', 'H', '2B', '3B', 'HR', 'RBI', 'SB', 'CS', \n",
    "          'BB', 'SO', 'BA', 'OBP', 'SLG', 'OPS', 'OPS+', 'TB', 'GDP', 'HBP', 'SH', 'SF', 'IBB']\n",
    "\n",
    "DATATYPES = [('rk', 'i'), ('pos', '|S25'), ('name', '|S25'), ('age', 'i'), ('g', 'i'), ('pa', 'i'), ('ab', 'i'),\n",
    "                ('r', 'i'), ('h', 'i'), ('2b', 'i'), ('3b', 'i'), ('hr', 'i'), ('rbi', 'i'), ('sb', 'i'), ('cs', 'i'),\n",
    "                ('bb', 'i'), ('so', 'i'), ('ba', 'f'), ('obp', 'f'), ('slg', 'f'), ('ops', 'f'), ('opsp', 'i'),\n",
    "                ('tb', 'i'), ('gdp', 'i'), ('hbp', 'i'), ('sh', 'i'), ('sf', 'i'), ('ibb', 'i')]\n",
    "\n",
    "#Use this function to actually open the data inside of a NDArray\n",
    "import numpy as np\n",
    "\n",
    "def load_data(filename, d = ','):\n",
    "    data = np.genfromtxt(filename,delimiter = d, skip_header = 1,\n",
    "                        usecols = np.arange(0,24),invalid_raise=False,\n",
    "                        names = FIELDS, dtype = DATATYPES)\n",
    "    return data\n",
    "\n",
    "bs2017 = load_data('/Users/seanbunk/Documents/CodingTemple/advanced_python/txt files/redsox_2017_hitting.txt')\n",
    "bs2018 = load_data('/Users/seanbunk/Documents/CodingTemple/advanced_python/txt files/redsox_2018_hitting.txt')\n",
    "\n",
    "# #Total hits\n",
    "total_hits17 = sum(bs2017['H'])\n",
    "total_hits18 = sum(bs2018['H'])\n",
    "print('\\nTotal Hits 2017:  {}'.format(total_hits17))\n",
    "print('Total Hits2018: {}'.format(total_hits18))\n",
    "\n",
    "\n",
    "# total_hr = sum(bs2018['HR'])\n",
    "total_hr_2017 = sum(bs2017['HR'])\n",
    "total_hr_2018 = sum(bs2018['HR'])\n",
    "print('\\nTotal HomeRuns 2017: {}'.format(total_hr_2017))\n",
    "print('Total Home Runs 2018: {}'.format(total_hr_2018))\n",
    "\n",
    "slg_2017 = sum(bs2017['SLG'])\n",
    "print('\\nTotal SLG 2017 {}'.format(slg_2017))\n",
    "slg_2018 = sum(bs2018['SLG'])\n",
    "print('Total SLG 2018 {}'.format(slg_2018))\n",
    "\n",
    "#top 5 SLG comparison\n",
    "slg_1= bs2017['SLG']\n",
    "slg_2= bs2018['SLG']\n",
    "\n",
    "sorted_slg_1 = sorted(slg_1)\n",
    "sorted_slg_2 = sorted(slg_2)\n",
    "\n",
    "top5_2017 = sorted_slg_1[-5:]\n",
    "top5_2018 = sorted_slg_2[-5:]\n",
    "print('\\nTop 5 of 2017: {}'.format(top5_2017))\n",
    "print('Top 5 of 2018: {}'.format(top5_2018))"
   ]
  }
 ],
 "metadata": {
  "colab": {
   "name": "Copy of Data_Science_Day_1_Exercises-Day1- Homework.ipynb",
   "provenance": []
  },
  "kernelspec": {
   "display_name": "Python 3 (ipykernel)",
   "language": "python",
   "name": "python3"
  },
  "language_info": {
   "codemirror_mode": {
    "name": "ipython",
    "version": 3
   },
   "file_extension": ".py",
   "mimetype": "text/x-python",
   "name": "python",
   "nbconvert_exporter": "python",
   "pygments_lexer": "ipython3",
   "version": "3.9.13"
  }
 },
 "nbformat": 4,
 "nbformat_minor": 1
}
